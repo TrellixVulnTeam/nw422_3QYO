{
 "cells": [
  {
   "cell_type": "code",
   "execution_count": 1,
   "metadata": {},
   "outputs": [
    {
     "ename": "ModuleNotFoundError",
     "evalue": "No module named 'tabulate'",
     "output_type": "error",
     "traceback": [
      "\u001b[1;31m---------------------------------------------------------------------------\u001b[0m",
      "\u001b[1;31mModuleNotFoundError\u001b[0m                       Traceback (most recent call last)",
      "\u001b[1;32m<ipython-input-1-37ce7640ea19>\u001b[0m in \u001b[0;36m<module>\u001b[1;34m\u001b[0m\n\u001b[0;32m     17\u001b[0m \u001b[1;32mfrom\u001b[0m \u001b[0mscipy\u001b[0m \u001b[1;32mimport\u001b[0m \u001b[0mstats\u001b[0m \u001b[1;32mas\u001b[0m \u001b[0mst\u001b[0m\u001b[1;33m\u001b[0m\u001b[1;33m\u001b[0m\u001b[0m\n\u001b[0;32m     18\u001b[0m \u001b[1;32mimport\u001b[0m \u001b[0mitertools\u001b[0m\u001b[1;33m\u001b[0m\u001b[1;33m\u001b[0m\u001b[0m\n\u001b[1;32m---> 19\u001b[1;33m \u001b[1;32mimport\u001b[0m \u001b[0mtabulate\u001b[0m\u001b[1;33m\u001b[0m\u001b[1;33m\u001b[0m\u001b[0m\n\u001b[0m\u001b[0;32m     20\u001b[0m \u001b[0mos\u001b[0m\u001b[1;33m.\u001b[0m\u001b[0mchdir\u001b[0m\u001b[1;33m(\u001b[0m\u001b[0mos\u001b[0m\u001b[1;33m.\u001b[0m\u001b[0mpath\u001b[0m\u001b[1;33m.\u001b[0m\u001b[0mexpanduser\u001b[0m\u001b[1;33m(\u001b[0m\u001b[1;34m'~/Documents/Northwestern/MSDS422-PML/week2/'\u001b[0m\u001b[1;33m)\u001b[0m\u001b[1;33m)\u001b[0m\u001b[1;33m\u001b[0m\u001b[1;33m\u001b[0m\u001b[0m\n\u001b[0;32m     21\u001b[0m \u001b[1;31m######################################################################\u001b[0m\u001b[1;33m\u001b[0m\u001b[1;33m\u001b[0m\u001b[1;33m\u001b[0m\u001b[0m\n",
      "\u001b[1;31mModuleNotFoundError\u001b[0m: No module named 'tabulate'"
     ]
    }
   ],
   "source": [
    "############################Initialization############################\n",
    "RANDOM_SEED = 1 # seed value for random number generator             \n",
    "import numpy as np\n",
    "import pandas as pd\n",
    "\n",
    "import seaborn as sns\n",
    "import os #manage files\n",
    "import matplotlib.pyplot as plt  #plots\n",
    "from matplotlib import rc\n",
    "\n",
    "import sklearn \n",
    "from sklearn.model_selection import train_test_split as tts\n",
    "from sklearn.utils import resample\n",
    "from sklearn.linear_model import LogisticRegressionCV\n",
    "from sklearn.linear_model import LogisticRegression\n",
    "\n",
    "from scipy import stats as st\n",
    "import itertools\n",
    "import tabulate\n",
    "os.chdir(os.path.expanduser('~/Documents/Northwestern/MSDS422-PML/week2/'))\n",
    "######################################################################"
   ]
  },
  {
   "cell_type": "code",
   "execution_count": 2,
   "metadata": {},
   "outputs": [
    {
     "name": "stdout",
     "output_type": "stream",
     "text": [
      "age           int64\n",
      "job          object\n",
      "marital      object\n",
      "education    object\n",
      "default      object\n",
      "balance       int64\n",
      "housing      object\n",
      "loan         object\n",
      "contact      object\n",
      "day           int64\n",
      "month        object\n",
      "duration      int64\n",
      "campaign      int64\n",
      "pdays         int64\n",
      "previous      int64\n",
      "poutcome     object\n",
      "response     object\n",
      "dtype: object\n"
     ]
    }
   ],
   "source": [
    "############################Read Data and Examine#####################\n",
    "# initial work with the smaller data set\n",
    "bank1 = pd.read_csv('bank.csv', sep = ';') \n",
    "bank=pd.get_dummies(bank1) #We can convert to dummies right up front. \n",
    "# ^this^ is amazing it does all the work for you!\n",
    "print (bank1.dtypes)\n",
    "#####################################################################"
   ]
  },
  {
   "cell_type": "code",
   "execution_count": 36,
   "metadata": {},
   "outputs": [
    {
     "name": "stdout",
     "output_type": "stream",
     "text": [
      "   age          job  marital  education default  balance housing loan  \\\n",
      "0   30   unemployed  married    primary      no     1787      no   no   \n",
      "1   33     services  married  secondary      no     4789     yes  yes   \n",
      "2   35   management   single   tertiary      no     1350     yes   no   \n",
      "3   30   management  married   tertiary      no     1476     yes  yes   \n",
      "4   59  blue-collar  married  secondary      no        0     yes   no   \n",
      "\n",
      "    contact  day month  duration  campaign  pdays  previous poutcome response  \n",
      "0  cellular   19   oct        79         1     -1         0  unknown       no  \n",
      "1  cellular   11   may       220         1    339         4  failure       no  \n",
      "2  cellular   16   apr       185         1    330         1  failure       no  \n",
      "3   unknown    3   jun       199         4     -1         0  unknown       no  \n",
      "4   unknown    5   may       226         1     -1         0  unknown       no  \n"
     ]
    }
   ],
   "source": [
    "print(pd.DataFrame.head(bank1)) #Header"
   ]
  },
  {
   "cell_type": "code",
   "execution_count": 3,
   "metadata": {},
   "outputs": [
    {
     "name": "stdout",
     "output_type": "stream",
     "text": [
      "Housing      0     1\n",
      "Response            \n",
      "0         1661  2339\n",
      "1          301   220 \n",
      "\n",
      "Loan         0    1\n",
      "Response           \n",
      "0         3352  648\n",
      "1          478   43 \n",
      "\n",
      "Default      0   1\n",
      "Response          \n",
      "0         3933  67\n",
      "1          512   9 \n",
      "\n",
      "\u001b[1m Odds for Response Yes for Each Variable with 95% CI \u001b[0m\n",
      "If housing=yes, odds for response=yes: [0.519, 0.498, 0.541]\n",
      "If loan=yes, odds for response=yes: [0.465, 0.451, 0.48]\n",
      "If default=yes, odds for response=yes [1.032, 1.002, 1.063]\n"
     ]
    }
   ],
   "source": [
    "#######################Some Crosstabs and Plot###########################\n",
    "a=pd.crosstab(bank.response_yes, \n",
    "            bank.housing_yes, \n",
    "            rownames=['Response'], colnames=['Housing'])\n",
    "\n",
    "b=pd.crosstab(bank.response_yes, \n",
    "            bank.loan_yes, \n",
    "            rownames=['Response'], colnames=['Loan'])\n",
    "\n",
    "c=pd.crosstab(bank.response_yes, \n",
    "            bank.default_yes, \n",
    "            rownames=['Response'], colnames=['Default'])\n",
    "\n",
    "print(a,\"\\n\")\n",
    "print(b,\"\\n\")\n",
    "print(c,\"\\n\")\n",
    "\n",
    "def myor(a):\n",
    "        myv=round((a.loc[1,1]/a.loc[0,1])/(a.loc[1,0]/a.loc[0,0]),3)\n",
    "        logmyv=np.log(myv)\n",
    "        se=np.sqrt(1/(a.loc[1,1]+1/a.loc[0,1]+a.loc[1,0]+a.loc[0,0]))\n",
    "        lower=round(np.exp(logmyv-1.96*se),3)\n",
    "        upper=round(np.exp(logmyv+1.96*se),3)\n",
    "        return [myv, lower, upper]\n",
    "\n",
    "\n",
    "print('\\033[1m',\"Odds for Response Yes for Each Variable with 95% CI\", '\\033[0m')\n",
    "print(\"If housing=yes, odds for response=yes:\", myor(a))\n",
    "print(\"If loan=yes, odds for response=yes:\", myor(b))\n",
    "print(\"If default=yes, odds for response=yes\", myor(c))\n",
    "#########################################################################"
   ]
  },
  {
   "cell_type": "code",
   "execution_count": 4,
   "metadata": {},
   "outputs": [
    {
     "data": {
      "text/html": [
       "<div>\n",
       "<style scoped>\n",
       "    .dataframe tbody tr th:only-of-type {\n",
       "        vertical-align: middle;\n",
       "    }\n",
       "\n",
       "    .dataframe tbody tr th {\n",
       "        vertical-align: top;\n",
       "    }\n",
       "\n",
       "    .dataframe thead th {\n",
       "        text-align: right;\n",
       "    }\n",
       "</style>\n",
       "<table border=\"1\" class=\"dataframe\">\n",
       "  <thead>\n",
       "    <tr style=\"text-align: right;\">\n",
       "      <th></th>\n",
       "      <th>age</th>\n",
       "      <th>balance</th>\n",
       "      <th>day</th>\n",
       "      <th>duration</th>\n",
       "      <th>campaign</th>\n",
       "      <th>pdays</th>\n",
       "      <th>previous</th>\n",
       "      <th>job_admin.</th>\n",
       "      <th>job_blue-collar</th>\n",
       "      <th>job_entrepreneur</th>\n",
       "      <th>job_housemaid</th>\n",
       "      <th>job_management</th>\n",
       "      <th>job_retired</th>\n",
       "      <th>job_self-employed</th>\n",
       "      <th>job_services</th>\n",
       "      <th>job_student</th>\n",
       "      <th>job_technician</th>\n",
       "      <th>job_unemployed</th>\n",
       "      <th>job_unknown</th>\n",
       "      <th>marital_divorced</th>\n",
       "      <th>marital_married</th>\n",
       "      <th>marital_single</th>\n",
       "      <th>education_primary</th>\n",
       "      <th>education_secondary</th>\n",
       "      <th>education_tertiary</th>\n",
       "      <th>education_unknown</th>\n",
       "      <th>default_no</th>\n",
       "      <th>default_yes</th>\n",
       "      <th>housing_no</th>\n",
       "      <th>housing_yes</th>\n",
       "      <th>loan_no</th>\n",
       "      <th>loan_yes</th>\n",
       "      <th>contact_cellular</th>\n",
       "      <th>contact_telephone</th>\n",
       "      <th>contact_unknown</th>\n",
       "      <th>month_apr</th>\n",
       "      <th>month_aug</th>\n",
       "      <th>month_dec</th>\n",
       "      <th>month_feb</th>\n",
       "      <th>month_jan</th>\n",
       "      <th>month_jul</th>\n",
       "      <th>month_jun</th>\n",
       "      <th>month_mar</th>\n",
       "      <th>month_may</th>\n",
       "      <th>month_nov</th>\n",
       "      <th>month_oct</th>\n",
       "      <th>month_sep</th>\n",
       "      <th>poutcome_failure</th>\n",
       "      <th>poutcome_other</th>\n",
       "      <th>poutcome_success</th>\n",
       "      <th>poutcome_unknown</th>\n",
       "      <th>response_no</th>\n",
       "      <th>response_yes</th>\n",
       "    </tr>\n",
       "  </thead>\n",
       "  <tbody>\n",
       "    <tr>\n",
       "      <th>count</th>\n",
       "      <td>4521.000000</td>\n",
       "      <td>4521.000000</td>\n",
       "      <td>4521.000000</td>\n",
       "      <td>4521.000000</td>\n",
       "      <td>4521.000000</td>\n",
       "      <td>4521.000000</td>\n",
       "      <td>4521.000000</td>\n",
       "      <td>4521.000000</td>\n",
       "      <td>4521.000000</td>\n",
       "      <td>4521.000000</td>\n",
       "      <td>4521.000000</td>\n",
       "      <td>4521.000000</td>\n",
       "      <td>4521.000000</td>\n",
       "      <td>4521.000000</td>\n",
       "      <td>4521.000000</td>\n",
       "      <td>4521.000000</td>\n",
       "      <td>4521.000000</td>\n",
       "      <td>4521.000000</td>\n",
       "      <td>4521.000000</td>\n",
       "      <td>4521.000000</td>\n",
       "      <td>4521.000000</td>\n",
       "      <td>4521.000000</td>\n",
       "      <td>4521.000000</td>\n",
       "      <td>4521.000000</td>\n",
       "      <td>4521.000000</td>\n",
       "      <td>4521.000000</td>\n",
       "      <td>4521.000000</td>\n",
       "      <td>4521.000000</td>\n",
       "      <td>4521.000000</td>\n",
       "      <td>4521.000000</td>\n",
       "      <td>4521.000000</td>\n",
       "      <td>4521.000000</td>\n",
       "      <td>4521.000000</td>\n",
       "      <td>4521.000000</td>\n",
       "      <td>4521.000000</td>\n",
       "      <td>4521.000000</td>\n",
       "      <td>4521.000000</td>\n",
       "      <td>4521.000000</td>\n",
       "      <td>4521.000000</td>\n",
       "      <td>4521.000000</td>\n",
       "      <td>4521.000000</td>\n",
       "      <td>4521.000000</td>\n",
       "      <td>4521.000000</td>\n",
       "      <td>4521.000000</td>\n",
       "      <td>4521.000000</td>\n",
       "      <td>4521.000000</td>\n",
       "      <td>4521.000000</td>\n",
       "      <td>4521.000000</td>\n",
       "      <td>4521.000000</td>\n",
       "      <td>4521.000000</td>\n",
       "      <td>4521.000000</td>\n",
       "      <td>4521.000000</td>\n",
       "      <td>4521.000000</td>\n",
       "    </tr>\n",
       "    <tr>\n",
       "      <th>mean</th>\n",
       "      <td>41.170095</td>\n",
       "      <td>1422.657819</td>\n",
       "      <td>15.915284</td>\n",
       "      <td>263.961292</td>\n",
       "      <td>2.793630</td>\n",
       "      <td>39.766645</td>\n",
       "      <td>0.542579</td>\n",
       "      <td>0.105729</td>\n",
       "      <td>0.209246</td>\n",
       "      <td>0.037160</td>\n",
       "      <td>0.024773</td>\n",
       "      <td>0.214333</td>\n",
       "      <td>0.050874</td>\n",
       "      <td>0.040478</td>\n",
       "      <td>0.092236</td>\n",
       "      <td>0.018580</td>\n",
       "      <td>0.169874</td>\n",
       "      <td>0.028312</td>\n",
       "      <td>0.008405</td>\n",
       "      <td>0.116788</td>\n",
       "      <td>0.618668</td>\n",
       "      <td>0.264543</td>\n",
       "      <td>0.149967</td>\n",
       "      <td>0.510064</td>\n",
       "      <td>0.298607</td>\n",
       "      <td>0.041363</td>\n",
       "      <td>0.983190</td>\n",
       "      <td>0.016810</td>\n",
       "      <td>0.433975</td>\n",
       "      <td>0.566025</td>\n",
       "      <td>0.847158</td>\n",
       "      <td>0.152842</td>\n",
       "      <td>0.640566</td>\n",
       "      <td>0.066578</td>\n",
       "      <td>0.292856</td>\n",
       "      <td>0.064809</td>\n",
       "      <td>0.140013</td>\n",
       "      <td>0.004424</td>\n",
       "      <td>0.049104</td>\n",
       "      <td>0.032736</td>\n",
       "      <td>0.156160</td>\n",
       "      <td>0.117452</td>\n",
       "      <td>0.010838</td>\n",
       "      <td>0.309224</td>\n",
       "      <td>0.086043</td>\n",
       "      <td>0.017695</td>\n",
       "      <td>0.011502</td>\n",
       "      <td>0.108383</td>\n",
       "      <td>0.043574</td>\n",
       "      <td>0.028534</td>\n",
       "      <td>0.819509</td>\n",
       "      <td>0.884760</td>\n",
       "      <td>0.115240</td>\n",
       "    </tr>\n",
       "    <tr>\n",
       "      <th>std</th>\n",
       "      <td>10.576211</td>\n",
       "      <td>3009.638142</td>\n",
       "      <td>8.247667</td>\n",
       "      <td>259.856633</td>\n",
       "      <td>3.109807</td>\n",
       "      <td>100.121124</td>\n",
       "      <td>1.693562</td>\n",
       "      <td>0.307524</td>\n",
       "      <td>0.406815</td>\n",
       "      <td>0.189174</td>\n",
       "      <td>0.155451</td>\n",
       "      <td>0.410404</td>\n",
       "      <td>0.219764</td>\n",
       "      <td>0.197099</td>\n",
       "      <td>0.289391</td>\n",
       "      <td>0.135051</td>\n",
       "      <td>0.375564</td>\n",
       "      <td>0.165882</td>\n",
       "      <td>0.091304</td>\n",
       "      <td>0.321203</td>\n",
       "      <td>0.485767</td>\n",
       "      <td>0.441138</td>\n",
       "      <td>0.357078</td>\n",
       "      <td>0.499954</td>\n",
       "      <td>0.457697</td>\n",
       "      <td>0.199149</td>\n",
       "      <td>0.128575</td>\n",
       "      <td>0.128575</td>\n",
       "      <td>0.495676</td>\n",
       "      <td>0.495676</td>\n",
       "      <td>0.359875</td>\n",
       "      <td>0.359875</td>\n",
       "      <td>0.479888</td>\n",
       "      <td>0.249318</td>\n",
       "      <td>0.455123</td>\n",
       "      <td>0.246215</td>\n",
       "      <td>0.347039</td>\n",
       "      <td>0.066372</td>\n",
       "      <td>0.216109</td>\n",
       "      <td>0.177965</td>\n",
       "      <td>0.363047</td>\n",
       "      <td>0.321994</td>\n",
       "      <td>0.103553</td>\n",
       "      <td>0.462225</td>\n",
       "      <td>0.280458</td>\n",
       "      <td>0.131856</td>\n",
       "      <td>0.106640</td>\n",
       "      <td>0.310898</td>\n",
       "      <td>0.204169</td>\n",
       "      <td>0.166510</td>\n",
       "      <td>0.384638</td>\n",
       "      <td>0.319347</td>\n",
       "      <td>0.319347</td>\n",
       "    </tr>\n",
       "    <tr>\n",
       "      <th>min</th>\n",
       "      <td>19.000000</td>\n",
       "      <td>-3313.000000</td>\n",
       "      <td>1.000000</td>\n",
       "      <td>4.000000</td>\n",
       "      <td>1.000000</td>\n",
       "      <td>-1.000000</td>\n",
       "      <td>0.000000</td>\n",
       "      <td>0.000000</td>\n",
       "      <td>0.000000</td>\n",
       "      <td>0.000000</td>\n",
       "      <td>0.000000</td>\n",
       "      <td>0.000000</td>\n",
       "      <td>0.000000</td>\n",
       "      <td>0.000000</td>\n",
       "      <td>0.000000</td>\n",
       "      <td>0.000000</td>\n",
       "      <td>0.000000</td>\n",
       "      <td>0.000000</td>\n",
       "      <td>0.000000</td>\n",
       "      <td>0.000000</td>\n",
       "      <td>0.000000</td>\n",
       "      <td>0.000000</td>\n",
       "      <td>0.000000</td>\n",
       "      <td>0.000000</td>\n",
       "      <td>0.000000</td>\n",
       "      <td>0.000000</td>\n",
       "      <td>0.000000</td>\n",
       "      <td>0.000000</td>\n",
       "      <td>0.000000</td>\n",
       "      <td>0.000000</td>\n",
       "      <td>0.000000</td>\n",
       "      <td>0.000000</td>\n",
       "      <td>0.000000</td>\n",
       "      <td>0.000000</td>\n",
       "      <td>0.000000</td>\n",
       "      <td>0.000000</td>\n",
       "      <td>0.000000</td>\n",
       "      <td>0.000000</td>\n",
       "      <td>0.000000</td>\n",
       "      <td>0.000000</td>\n",
       "      <td>0.000000</td>\n",
       "      <td>0.000000</td>\n",
       "      <td>0.000000</td>\n",
       "      <td>0.000000</td>\n",
       "      <td>0.000000</td>\n",
       "      <td>0.000000</td>\n",
       "      <td>0.000000</td>\n",
       "      <td>0.000000</td>\n",
       "      <td>0.000000</td>\n",
       "      <td>0.000000</td>\n",
       "      <td>0.000000</td>\n",
       "      <td>0.000000</td>\n",
       "      <td>0.000000</td>\n",
       "    </tr>\n",
       "    <tr>\n",
       "      <th>25%</th>\n",
       "      <td>33.000000</td>\n",
       "      <td>69.000000</td>\n",
       "      <td>9.000000</td>\n",
       "      <td>104.000000</td>\n",
       "      <td>1.000000</td>\n",
       "      <td>-1.000000</td>\n",
       "      <td>0.000000</td>\n",
       "      <td>0.000000</td>\n",
       "      <td>0.000000</td>\n",
       "      <td>0.000000</td>\n",
       "      <td>0.000000</td>\n",
       "      <td>0.000000</td>\n",
       "      <td>0.000000</td>\n",
       "      <td>0.000000</td>\n",
       "      <td>0.000000</td>\n",
       "      <td>0.000000</td>\n",
       "      <td>0.000000</td>\n",
       "      <td>0.000000</td>\n",
       "      <td>0.000000</td>\n",
       "      <td>0.000000</td>\n",
       "      <td>0.000000</td>\n",
       "      <td>0.000000</td>\n",
       "      <td>0.000000</td>\n",
       "      <td>0.000000</td>\n",
       "      <td>0.000000</td>\n",
       "      <td>0.000000</td>\n",
       "      <td>1.000000</td>\n",
       "      <td>0.000000</td>\n",
       "      <td>0.000000</td>\n",
       "      <td>0.000000</td>\n",
       "      <td>1.000000</td>\n",
       "      <td>0.000000</td>\n",
       "      <td>0.000000</td>\n",
       "      <td>0.000000</td>\n",
       "      <td>0.000000</td>\n",
       "      <td>0.000000</td>\n",
       "      <td>0.000000</td>\n",
       "      <td>0.000000</td>\n",
       "      <td>0.000000</td>\n",
       "      <td>0.000000</td>\n",
       "      <td>0.000000</td>\n",
       "      <td>0.000000</td>\n",
       "      <td>0.000000</td>\n",
       "      <td>0.000000</td>\n",
       "      <td>0.000000</td>\n",
       "      <td>0.000000</td>\n",
       "      <td>0.000000</td>\n",
       "      <td>0.000000</td>\n",
       "      <td>0.000000</td>\n",
       "      <td>0.000000</td>\n",
       "      <td>1.000000</td>\n",
       "      <td>1.000000</td>\n",
       "      <td>0.000000</td>\n",
       "    </tr>\n",
       "    <tr>\n",
       "      <th>50%</th>\n",
       "      <td>39.000000</td>\n",
       "      <td>444.000000</td>\n",
       "      <td>16.000000</td>\n",
       "      <td>185.000000</td>\n",
       "      <td>2.000000</td>\n",
       "      <td>-1.000000</td>\n",
       "      <td>0.000000</td>\n",
       "      <td>0.000000</td>\n",
       "      <td>0.000000</td>\n",
       "      <td>0.000000</td>\n",
       "      <td>0.000000</td>\n",
       "      <td>0.000000</td>\n",
       "      <td>0.000000</td>\n",
       "      <td>0.000000</td>\n",
       "      <td>0.000000</td>\n",
       "      <td>0.000000</td>\n",
       "      <td>0.000000</td>\n",
       "      <td>0.000000</td>\n",
       "      <td>0.000000</td>\n",
       "      <td>0.000000</td>\n",
       "      <td>1.000000</td>\n",
       "      <td>0.000000</td>\n",
       "      <td>0.000000</td>\n",
       "      <td>1.000000</td>\n",
       "      <td>0.000000</td>\n",
       "      <td>0.000000</td>\n",
       "      <td>1.000000</td>\n",
       "      <td>0.000000</td>\n",
       "      <td>0.000000</td>\n",
       "      <td>1.000000</td>\n",
       "      <td>1.000000</td>\n",
       "      <td>0.000000</td>\n",
       "      <td>1.000000</td>\n",
       "      <td>0.000000</td>\n",
       "      <td>0.000000</td>\n",
       "      <td>0.000000</td>\n",
       "      <td>0.000000</td>\n",
       "      <td>0.000000</td>\n",
       "      <td>0.000000</td>\n",
       "      <td>0.000000</td>\n",
       "      <td>0.000000</td>\n",
       "      <td>0.000000</td>\n",
       "      <td>0.000000</td>\n",
       "      <td>0.000000</td>\n",
       "      <td>0.000000</td>\n",
       "      <td>0.000000</td>\n",
       "      <td>0.000000</td>\n",
       "      <td>0.000000</td>\n",
       "      <td>0.000000</td>\n",
       "      <td>0.000000</td>\n",
       "      <td>1.000000</td>\n",
       "      <td>1.000000</td>\n",
       "      <td>0.000000</td>\n",
       "    </tr>\n",
       "    <tr>\n",
       "      <th>75%</th>\n",
       "      <td>49.000000</td>\n",
       "      <td>1480.000000</td>\n",
       "      <td>21.000000</td>\n",
       "      <td>329.000000</td>\n",
       "      <td>3.000000</td>\n",
       "      <td>-1.000000</td>\n",
       "      <td>0.000000</td>\n",
       "      <td>0.000000</td>\n",
       "      <td>0.000000</td>\n",
       "      <td>0.000000</td>\n",
       "      <td>0.000000</td>\n",
       "      <td>0.000000</td>\n",
       "      <td>0.000000</td>\n",
       "      <td>0.000000</td>\n",
       "      <td>0.000000</td>\n",
       "      <td>0.000000</td>\n",
       "      <td>0.000000</td>\n",
       "      <td>0.000000</td>\n",
       "      <td>0.000000</td>\n",
       "      <td>0.000000</td>\n",
       "      <td>1.000000</td>\n",
       "      <td>1.000000</td>\n",
       "      <td>0.000000</td>\n",
       "      <td>1.000000</td>\n",
       "      <td>1.000000</td>\n",
       "      <td>0.000000</td>\n",
       "      <td>1.000000</td>\n",
       "      <td>0.000000</td>\n",
       "      <td>1.000000</td>\n",
       "      <td>1.000000</td>\n",
       "      <td>1.000000</td>\n",
       "      <td>0.000000</td>\n",
       "      <td>1.000000</td>\n",
       "      <td>0.000000</td>\n",
       "      <td>1.000000</td>\n",
       "      <td>0.000000</td>\n",
       "      <td>0.000000</td>\n",
       "      <td>0.000000</td>\n",
       "      <td>0.000000</td>\n",
       "      <td>0.000000</td>\n",
       "      <td>0.000000</td>\n",
       "      <td>0.000000</td>\n",
       "      <td>0.000000</td>\n",
       "      <td>1.000000</td>\n",
       "      <td>0.000000</td>\n",
       "      <td>0.000000</td>\n",
       "      <td>0.000000</td>\n",
       "      <td>0.000000</td>\n",
       "      <td>0.000000</td>\n",
       "      <td>0.000000</td>\n",
       "      <td>1.000000</td>\n",
       "      <td>1.000000</td>\n",
       "      <td>0.000000</td>\n",
       "    </tr>\n",
       "    <tr>\n",
       "      <th>max</th>\n",
       "      <td>87.000000</td>\n",
       "      <td>71188.000000</td>\n",
       "      <td>31.000000</td>\n",
       "      <td>3025.000000</td>\n",
       "      <td>50.000000</td>\n",
       "      <td>871.000000</td>\n",
       "      <td>25.000000</td>\n",
       "      <td>1.000000</td>\n",
       "      <td>1.000000</td>\n",
       "      <td>1.000000</td>\n",
       "      <td>1.000000</td>\n",
       "      <td>1.000000</td>\n",
       "      <td>1.000000</td>\n",
       "      <td>1.000000</td>\n",
       "      <td>1.000000</td>\n",
       "      <td>1.000000</td>\n",
       "      <td>1.000000</td>\n",
       "      <td>1.000000</td>\n",
       "      <td>1.000000</td>\n",
       "      <td>1.000000</td>\n",
       "      <td>1.000000</td>\n",
       "      <td>1.000000</td>\n",
       "      <td>1.000000</td>\n",
       "      <td>1.000000</td>\n",
       "      <td>1.000000</td>\n",
       "      <td>1.000000</td>\n",
       "      <td>1.000000</td>\n",
       "      <td>1.000000</td>\n",
       "      <td>1.000000</td>\n",
       "      <td>1.000000</td>\n",
       "      <td>1.000000</td>\n",
       "      <td>1.000000</td>\n",
       "      <td>1.000000</td>\n",
       "      <td>1.000000</td>\n",
       "      <td>1.000000</td>\n",
       "      <td>1.000000</td>\n",
       "      <td>1.000000</td>\n",
       "      <td>1.000000</td>\n",
       "      <td>1.000000</td>\n",
       "      <td>1.000000</td>\n",
       "      <td>1.000000</td>\n",
       "      <td>1.000000</td>\n",
       "      <td>1.000000</td>\n",
       "      <td>1.000000</td>\n",
       "      <td>1.000000</td>\n",
       "      <td>1.000000</td>\n",
       "      <td>1.000000</td>\n",
       "      <td>1.000000</td>\n",
       "      <td>1.000000</td>\n",
       "      <td>1.000000</td>\n",
       "      <td>1.000000</td>\n",
       "      <td>1.000000</td>\n",
       "      <td>1.000000</td>\n",
       "    </tr>\n",
       "  </tbody>\n",
       "</table>\n",
       "</div>"
      ],
      "text/plain": [
       "               age       balance          day     duration     campaign  \\\n",
       "count  4521.000000   4521.000000  4521.000000  4521.000000  4521.000000   \n",
       "mean     41.170095   1422.657819    15.915284   263.961292     2.793630   \n",
       "std      10.576211   3009.638142     8.247667   259.856633     3.109807   \n",
       "min      19.000000  -3313.000000     1.000000     4.000000     1.000000   \n",
       "25%      33.000000     69.000000     9.000000   104.000000     1.000000   \n",
       "50%      39.000000    444.000000    16.000000   185.000000     2.000000   \n",
       "75%      49.000000   1480.000000    21.000000   329.000000     3.000000   \n",
       "max      87.000000  71188.000000    31.000000  3025.000000    50.000000   \n",
       "\n",
       "             pdays     previous   job_admin.  job_blue-collar  \\\n",
       "count  4521.000000  4521.000000  4521.000000      4521.000000   \n",
       "mean     39.766645     0.542579     0.105729         0.209246   \n",
       "std     100.121124     1.693562     0.307524         0.406815   \n",
       "min      -1.000000     0.000000     0.000000         0.000000   \n",
       "25%      -1.000000     0.000000     0.000000         0.000000   \n",
       "50%      -1.000000     0.000000     0.000000         0.000000   \n",
       "75%      -1.000000     0.000000     0.000000         0.000000   \n",
       "max     871.000000    25.000000     1.000000         1.000000   \n",
       "\n",
       "       job_entrepreneur  job_housemaid  job_management  job_retired  \\\n",
       "count       4521.000000    4521.000000     4521.000000  4521.000000   \n",
       "mean           0.037160       0.024773        0.214333     0.050874   \n",
       "std            0.189174       0.155451        0.410404     0.219764   \n",
       "min            0.000000       0.000000        0.000000     0.000000   \n",
       "25%            0.000000       0.000000        0.000000     0.000000   \n",
       "50%            0.000000       0.000000        0.000000     0.000000   \n",
       "75%            0.000000       0.000000        0.000000     0.000000   \n",
       "max            1.000000       1.000000        1.000000     1.000000   \n",
       "\n",
       "       job_self-employed  job_services  job_student  job_technician  \\\n",
       "count        4521.000000   4521.000000  4521.000000     4521.000000   \n",
       "mean            0.040478      0.092236     0.018580        0.169874   \n",
       "std             0.197099      0.289391     0.135051        0.375564   \n",
       "min             0.000000      0.000000     0.000000        0.000000   \n",
       "25%             0.000000      0.000000     0.000000        0.000000   \n",
       "50%             0.000000      0.000000     0.000000        0.000000   \n",
       "75%             0.000000      0.000000     0.000000        0.000000   \n",
       "max             1.000000      1.000000     1.000000        1.000000   \n",
       "\n",
       "       job_unemployed  job_unknown  marital_divorced  marital_married  \\\n",
       "count     4521.000000  4521.000000       4521.000000      4521.000000   \n",
       "mean         0.028312     0.008405          0.116788         0.618668   \n",
       "std          0.165882     0.091304          0.321203         0.485767   \n",
       "min          0.000000     0.000000          0.000000         0.000000   \n",
       "25%          0.000000     0.000000          0.000000         0.000000   \n",
       "50%          0.000000     0.000000          0.000000         1.000000   \n",
       "75%          0.000000     0.000000          0.000000         1.000000   \n",
       "max          1.000000     1.000000          1.000000         1.000000   \n",
       "\n",
       "       marital_single  education_primary  education_secondary  \\\n",
       "count     4521.000000        4521.000000          4521.000000   \n",
       "mean         0.264543           0.149967             0.510064   \n",
       "std          0.441138           0.357078             0.499954   \n",
       "min          0.000000           0.000000             0.000000   \n",
       "25%          0.000000           0.000000             0.000000   \n",
       "50%          0.000000           0.000000             1.000000   \n",
       "75%          1.000000           0.000000             1.000000   \n",
       "max          1.000000           1.000000             1.000000   \n",
       "\n",
       "       education_tertiary  education_unknown   default_no  default_yes  \\\n",
       "count         4521.000000        4521.000000  4521.000000  4521.000000   \n",
       "mean             0.298607           0.041363     0.983190     0.016810   \n",
       "std              0.457697           0.199149     0.128575     0.128575   \n",
       "min              0.000000           0.000000     0.000000     0.000000   \n",
       "25%              0.000000           0.000000     1.000000     0.000000   \n",
       "50%              0.000000           0.000000     1.000000     0.000000   \n",
       "75%              1.000000           0.000000     1.000000     0.000000   \n",
       "max              1.000000           1.000000     1.000000     1.000000   \n",
       "\n",
       "        housing_no  housing_yes      loan_no     loan_yes  contact_cellular  \\\n",
       "count  4521.000000  4521.000000  4521.000000  4521.000000       4521.000000   \n",
       "mean      0.433975     0.566025     0.847158     0.152842          0.640566   \n",
       "std       0.495676     0.495676     0.359875     0.359875          0.479888   \n",
       "min       0.000000     0.000000     0.000000     0.000000          0.000000   \n",
       "25%       0.000000     0.000000     1.000000     0.000000          0.000000   \n",
       "50%       0.000000     1.000000     1.000000     0.000000          1.000000   \n",
       "75%       1.000000     1.000000     1.000000     0.000000          1.000000   \n",
       "max       1.000000     1.000000     1.000000     1.000000          1.000000   \n",
       "\n",
       "       contact_telephone  contact_unknown    month_apr    month_aug  \\\n",
       "count        4521.000000      4521.000000  4521.000000  4521.000000   \n",
       "mean            0.066578         0.292856     0.064809     0.140013   \n",
       "std             0.249318         0.455123     0.246215     0.347039   \n",
       "min             0.000000         0.000000     0.000000     0.000000   \n",
       "25%             0.000000         0.000000     0.000000     0.000000   \n",
       "50%             0.000000         0.000000     0.000000     0.000000   \n",
       "75%             0.000000         1.000000     0.000000     0.000000   \n",
       "max             1.000000         1.000000     1.000000     1.000000   \n",
       "\n",
       "         month_dec    month_feb    month_jan    month_jul    month_jun  \\\n",
       "count  4521.000000  4521.000000  4521.000000  4521.000000  4521.000000   \n",
       "mean      0.004424     0.049104     0.032736     0.156160     0.117452   \n",
       "std       0.066372     0.216109     0.177965     0.363047     0.321994   \n",
       "min       0.000000     0.000000     0.000000     0.000000     0.000000   \n",
       "25%       0.000000     0.000000     0.000000     0.000000     0.000000   \n",
       "50%       0.000000     0.000000     0.000000     0.000000     0.000000   \n",
       "75%       0.000000     0.000000     0.000000     0.000000     0.000000   \n",
       "max       1.000000     1.000000     1.000000     1.000000     1.000000   \n",
       "\n",
       "         month_mar    month_may    month_nov    month_oct    month_sep  \\\n",
       "count  4521.000000  4521.000000  4521.000000  4521.000000  4521.000000   \n",
       "mean      0.010838     0.309224     0.086043     0.017695     0.011502   \n",
       "std       0.103553     0.462225     0.280458     0.131856     0.106640   \n",
       "min       0.000000     0.000000     0.000000     0.000000     0.000000   \n",
       "25%       0.000000     0.000000     0.000000     0.000000     0.000000   \n",
       "50%       0.000000     0.000000     0.000000     0.000000     0.000000   \n",
       "75%       0.000000     1.000000     0.000000     0.000000     0.000000   \n",
       "max       1.000000     1.000000     1.000000     1.000000     1.000000   \n",
       "\n",
       "       poutcome_failure  poutcome_other  poutcome_success  poutcome_unknown  \\\n",
       "count       4521.000000     4521.000000       4521.000000       4521.000000   \n",
       "mean           0.108383        0.043574          0.028534          0.819509   \n",
       "std            0.310898        0.204169          0.166510          0.384638   \n",
       "min            0.000000        0.000000          0.000000          0.000000   \n",
       "25%            0.000000        0.000000          0.000000          1.000000   \n",
       "50%            0.000000        0.000000          0.000000          1.000000   \n",
       "75%            0.000000        0.000000          0.000000          1.000000   \n",
       "max            1.000000        1.000000          1.000000          1.000000   \n",
       "\n",
       "       response_no  response_yes  \n",
       "count  4521.000000   4521.000000  \n",
       "mean      0.884760      0.115240  \n",
       "std       0.319347      0.319347  \n",
       "min       0.000000      0.000000  \n",
       "25%       1.000000      0.000000  \n",
       "50%       1.000000      0.000000  \n",
       "75%       1.000000      0.000000  \n",
       "max       1.000000      1.000000  "
      ]
     },
     "execution_count": 4,
     "metadata": {},
     "output_type": "execute_result"
    }
   ],
   "source": [
    "pd.options.display.max_rows = 100\n",
    "pd.options.display.max_columns = 100\n",
    "bank.describe(include=\"all\")"
   ]
  },
  {
   "cell_type": "code",
   "execution_count": 6,
   "metadata": {},
   "outputs": [
    {
     "data": {
      "text/plain": [
       "(array([4.111e+03, 3.400e+02, 4.700e+01, 1.700e+01, 4.000e+00, 0.000e+00,\n",
       "        1.000e+00, 0.000e+00, 0.000e+00, 1.000e+00]),\n",
       " array([-3313. ,  4137.1, 11587.2, 19037.3, 26487.4, 33937.5, 41387.6,\n",
       "        48837.7, 56287.8, 63737.9, 71188. ]),\n",
       " <a list of 10 Patch objects>)"
      ]
     },
     "execution_count": 6,
     "metadata": {},
     "output_type": "execute_result"
    },
    {
     "data": {
      "image/png": "[encoded data removed]",
      "text/plain": [
       "<Figure size 432x288 with 1 Axes>"
      ]
     },
     "metadata": {
      "needs_background": "light"
     },
     "output_type": "display_data"
    }
   ],
   "source": [
    "plt.hist(bank1.balance)"
   ]
  },
  {
   "cell_type": "code",
   "execution_count": 7,
   "metadata": {
    "scrolled": false
   },
   "outputs": [
    {
     "data": {
      "image/png": "[encoded data removed]",
      "text/plain": [
       "<Figure size 720x360 with 2 Axes>"
      ]
     },
     "metadata": {
      "needs_background": "light"
     },
     "output_type": "display_data"
    },
    {
     "data": {
      "image/png": "[encoded data removed]",
      "text/plain": [
       "<Figure size 1080x360 with 3 Axes>"
      ]
     },
     "metadata": {
      "needs_background": "light"
     },
     "output_type": "display_data"
    },
    {
     "data": {
      "image/png": "[encoded data removed]",
      "text/plain": [
       "<Figure size 720x360 with 2 Axes>"
      ]
     },
     "metadata": {
      "needs_background": "light"
     },
     "output_type": "display_data"
    },
    {
     "data": {
      "image/png": "[encoded data removed]",
      "text/plain": [
       "<Figure size 360x360 with 1 Axes>"
      ]
     },
     "metadata": {
      "needs_background": "light"
     },
     "output_type": "display_data"
    },
    {
     "data": {
      "image/png": "[encoded data removed]",
      "text/plain": [
       "<Figure size 413.5x360 with 1 Axes>"
      ]
     },
     "metadata": {
      "needs_background": "light"
     },
     "output_type": "display_data"
    },
    {
     "data": {
      "image/png": "[encoded data removed]",
      "text/plain": [
       "<Figure size 413.5x360 with 1 Axes>"
      ]
     },
     "metadata": {
      "needs_background": "light"
     },
     "output_type": "display_data"
    },
    {
     "data": {
      "image/png": "[encoded data removed]",
      "text/plain": [
       "<Figure size 413.5x360 with 1 Axes>"
      ]
     },
     "metadata": {
      "needs_background": "light"
     },
     "output_type": "display_data"
    },
    {
     "data": {
      "image/png": "[encoded data removed]",
      "text/plain": [
       "<Figure size 413.5x360 with 1 Axes>"
      ]
     },
     "metadata": {
      "needs_background": "light"
     },
     "output_type": "display_data"
    }
   ],
   "source": [
    "################Plot the Data#########################################\n",
    "fig1=sns.catplot(x=\"response\", col=\"loan\", data=bank1, kind=\"count\")\n",
    "fig2=sns.catplot(x=\"response\", col=\"marital\", data=bank1, kind=\"count\")\n",
    "fig3=sns.catplot(x=\"response\", col=\"default\", data=bank1, kind=\"count\")\n",
    "fig4=sns.catplot(x=\"response\", y=\"balance\", data=bank1)\n",
    "fig5=sns.catplot(x=\"loan\", y=\"balance\", hue=\"response\", kind=\"boxen\", data=bank1)\n",
    "fig6=sns.catplot(x=\"housing\", y=\"balance\", hue=\"response\", kind=\"boxen\", data=bank1)\n",
    "fig7=sns.catplot(x=\"default\", y=\"balance\", hue=\"response\", kind=\"boxen\", data=bank1)\n",
    "fig8=sns.catplot(x=\"default\", y=\"age\", hue=\"response\", kind=\"boxen\", data=bank1)\n",
    "######################################################################"
   ]
  },
  {
   "cell_type": "markdown",
   "metadata": {},
   "source": [
    "### Here I used the corr plot from week 1 to get a different view of the data."
   ]
  },
  {
   "cell_type": "code",
   "execution_count": 5,
   "metadata": {},
   "outputs": [
    {
     "data": {
      "text/plain": [
       "<Figure size 432x288 with 0 Axes>"
      ]
     },
     "metadata": {},
     "output_type": "display_data"
    },
    {
     "data": {
      "image/png": "[encoded data removed]",
      "text/plain": [
       "<Figure size 864x864 with 2 Axes>"
      ]
     },
     "metadata": {
      "needs_background": "light"
     },
     "output_type": "display_data"
    }
   ],
   "source": [
    "def corr_chart(df_corr):\n",
    "    \n",
    "    #This is simple.  We are using the .corr() to build a correlation matrix\n",
    "    corr=df_corr.corr() \n",
    "    \n",
    "    #Ok.  This is trickier.  Using numpy's zeros_like function, we return an array of zeros of the same shape and type.\n",
    "    #The dtype option forces the data to be boolean.\n",
    "    #the zeros are stored in \"top.\"\"\n",
    "    top = np.zeros_like(corr, dtype=np.bool)\n",
    "    \n",
    "    #This numpy function returns the indices from the upper triangle of an array and sets them to TRUE for use as a mask. \n",
    "    top[np.triu_indices_from(top)] = True\n",
    "    \n",
    "    #Establish a Matlib (plt) figure container\n",
    "    fig=plt.figure()\n",
    "    \n",
    "    #Build figure parameters\n",
    "    fig, ax = plt.subplots(figsize=(12,12))\n",
    "    \n",
    "    #Define the seaborn heatmap function.  We will plot the passed correlation.  \n",
    "    #We will use the mask \"top\" we just built.\n",
    "    #We will use a color map of coolwarm.     \n",
    "    sns.heatmap(corr, mask=top, cmap='coolwarm',  \n",
    "        center = 0, square=True,  #Center location and shape = square.\n",
    "        linewidths=.5, cbar_kws={'shrink':.5}, #linewidth and colorbar parameters set.\n",
    "        annot = True, annot_kws={'size': 9}, fmt = '.3f') #Annotation and annotation parameters, 3 decimals.       \n",
    "    plt.xticks(rotation=45) # rotate variable labels on columns (x axis) \n",
    "    plt.yticks(rotation=0) # use horizontal variable labels on rows (y axis)\n",
    "    plt.title('Correlation Heat Map')   #title\n",
    "    \n",
    "corr_chart(df_corr = bank1) "
   ]
  },
  {
   "cell_type": "markdown",
   "metadata": {},
   "source": [
    "### I ran some different plots to check out some different variables."
   ]
  },
  {
   "cell_type": "code",
   "execution_count": 6,
   "metadata": {},
   "outputs": [
    {
     "data": {
      "image/png": "[encoded data removed]",
      "text/plain": [
       "<Figure size 720x360 with 2 Axes>"
      ]
     },
     "metadata": {
      "needs_background": "light"
     },
     "output_type": "display_data"
    },
    {
     "data": {
      "image/png": "[encoded data removed]",
      "text/plain": [
       "<Figure size 720x360 with 2 Axes>"
      ]
     },
     "metadata": {
      "needs_background": "light"
     },
     "output_type": "display_data"
    },
    {
     "data": {
      "image/png": "[encoded data removed]",
      "text/plain": [
       "<Figure size 720x360 with 2 Axes>"
      ]
     },
     "metadata": {
      "needs_background": "light"
     },
     "output_type": "display_data"
    }
   ],
   "source": [
    "################Plot the Data#########################################\n",
    "# age          job  marital  education default  balance housing loan\n",
    " #   contact  day month  duration  campaign  pdays  previous poutcome\n",
    "\n",
    "fig1=sns.catplot(x=\"campaign\", col=\"response\", data=bank1, kind=\"count\")\n",
    "fig1=sns.catplot(x=\"job\", col=\"response\", data=bank1, kind=\"count\")\n",
    "fig1=sns.catplot(x=\"duration\", col=\"response\", data=bank1, kind=\"count\")\n"
   ]
  },
  {
   "cell_type": "code",
   "execution_count": 7,
   "metadata": {},
   "outputs": [
    {
     "name": "stdout",
     "output_type": "stream",
     "text": [
      "% defaults: 11.52\n"
     ]
    }
   ],
   "source": [
    "X,y=np.array(bank[['loan_yes', 'default_yes', 'housing_yes']]),np.array(bank['response_yes'])\n",
    "X_train, X_test, y_train, y_test=tts(X, y, test_size=0.3, random_state=42)\n",
    "print(\"% defaults:\", round(100*sum(y) / len(y),2))"
   ]
  },
  {
   "cell_type": "markdown",
   "metadata": {},
   "source": [
    "### Since the jump-start predictor variables didn't give a very good model I did a little experimenting and selected a different set that gives a better model."
   ]
  },
  {
   "cell_type": "code",
   "execution_count": 110,
   "metadata": {},
   "outputs": [
    {
     "name": "stdout",
     "output_type": "stream",
     "text": [
      "% defaults: 11.52\n"
     ]
    }
   ],
   "source": [
    "#X,y=np.array(bank[['duration', 'balance', 'pdays','previous']]),np.array(bank['response_yes'])\n",
    "X,y=np.array(bank[['duration','campaign', 'pdays','balance']]),np.array(bank['response_yes'])\n",
    "X_train, X_test, y_train, y_test=tts(X, y, test_size=0.3, random_state=42)\n",
    "print(\"% defaults:\", round(100*sum(y) / len(y),2))"
   ]
  },
  {
   "cell_type": "code",
   "execution_count": 111,
   "metadata": {},
   "outputs": [
    {
     "name": "stdout",
     "output_type": "stream",
     "text": [
      "0.5\n"
     ]
    }
   ],
   "source": [
    "minority, majority=X_train[y_train==1], X_train[y_train==0] #bifurcate\n",
    "oversample=len(majority)\n",
    "\n",
    "#########Resample with Replacement###################################################\n",
    "minority= resample(minority, replace=True, n_samples=oversample, random_state=123) \n",
    "#####################################################################################\n",
    "\n",
    "#########Rebuild the training set with the upsampled data###########################\n",
    "X_train1=np.concatenate((minority, majority))\n",
    "a,b=np.repeat(1,oversample),np.repeat(0,len(majority)) \n",
    "y_train1=np.append(a, b)\n",
    "print(sum(y_train1)/len(y_train1))\n",
    "#####################################################################################"
   ]
  },
  {
   "cell_type": "code",
   "execution_count": 112,
   "metadata": {},
   "outputs": [
    {
     "name": "stdout",
     "output_type": "stream",
     "text": [
      "Accuracy of LR: \n",
      " [0.75892857 0.73571429 0.73928571 0.7375     0.69464286 0.72759857\n",
      " 0.77060932 0.7562724  0.77060932 0.72580645]\n"
     ]
    }
   ],
   "source": [
    "###Import Necessary Libraries\n",
    "from sklearn.metrics import roc_auc_score as roc\n",
    "from sklearn.metrics import confusion_matrix as cm\n",
    "from sklearn.naive_bayes import BernoulliNB as bern\n",
    "from sklearn.linear_model import LogisticRegression as lr \n",
    "from sklearn.model_selection import cross_val_score as cvs\n",
    "from sklearn import metrics\n",
    "nfolds=10\n",
    "\n",
    "clf = lr(solver=\"lbfgs\", multi_class=\"ovr\") ##leave one out CV=8000\n",
    "mycvs=cvs(clf,X_train1,y_train1,cv=nfolds)\n",
    "print(\"Accuracy of LR: \\n\", mycvs)"
   ]
  },
  {
   "cell_type": "code",
   "execution_count": 113,
   "metadata": {},
   "outputs": [
    {
     "name": "stdout",
     "output_type": "stream",
     "text": [
      "\n",
      " Accuracy of NB: \n",
      " [0.58928571 0.5875     0.5875     0.58928571 0.59285714 0.59318996\n",
      " 0.61111111 0.58781362 0.59856631 0.6218638 ]\n"
     ]
    },
    {
     "data": {
      "text/plain": [
       "<matplotlib.collections.PathCollection at 0x1a281c45f8>"
      ]
     },
     "execution_count": 113,
     "metadata": {},
     "output_type": "execute_result"
    },
    {
     "data": {
      "image/png": "[encoded data removed]",
      "text/plain": [
       "<Figure size 432x288 with 1 Axes>"
      ]
     },
     "metadata": {
      "needs_background": "light"
     },
     "output_type": "display_data"
    }
   ],
   "source": [
    "clf1=bern() #(binarize = 0.01) this didn't help\n",
    "mycvs1=cvs(clf1, X_train1, y_train1, cv=nfolds)\n",
    "print(\"\\n Accuracy of NB: \\n\", mycvs1)  #NOTE:  These are going to be close.  Why?\n",
    "\n",
    "\n",
    "from matplotlib.pyplot import scatter\n",
    "scatter(mycvs, mycvs1)\n",
    "\n",
    "#The two models produce the same results as the training set size \n",
    "#approaches ∞ IF the Naive Bayes assumption holds that the xi’s are \n",
    "#conditionally independent of one another given y. "
   ]
  },
  {
   "cell_type": "code",
   "execution_count": null,
   "metadata": {},
   "outputs": [],
   "source": []
  },
  {
   "cell_type": "code",
   "execution_count": 114,
   "metadata": {},
   "outputs": [
    {
     "name": "stdout",
     "output_type": "stream",
     "text": [
      "Area Under the Curve: 0.8317682035067732\n",
      "\n",
      " Confusion Matrix: \n",
      " [[2219  576]\n",
      " [ 872 1923]]\n",
      "\n",
      " PPV, Correctly Classifies Response Yes: \n",
      " 0.6880143112701252\n",
      "\n",
      " NPV, Correctly Classifies Response No: \n",
      " 0.7939177101967799\n",
      "Area Under the Curve: 0.6158836537261465\n",
      "\n",
      " Confusion Matrix: \n",
      " [[2219  576]\n",
      " [ 872 1923]]\n",
      "\n",
      " PPV, Correctly Classifies Response Yes: \n",
      " 0.6880143112701252\n",
      "\n",
      " NPV, Correctly Classifies Response No: \n",
      " 0.7939177101967799\n"
     ]
    }
   ],
   "source": [
    "clf.fit(X_train1,y_train1)\n",
    "mypred=clf.predict_proba(X_train1)\n",
    "mypred = [p[1] for p in mypred]\n",
    "mypredclass=clf.predict(X_train1)\n",
    "\n",
    "clf1.fit(X_train1,y_train1)\n",
    "mypred1=clf1.predict_proba(X_train1)\n",
    "mypred1=[p[1] for p in mypred1]\n",
    "mypredclass1=clf1.predict(X_train1)\n",
    "\n",
    "def metrics(y,mypred):\n",
    "    print(\"Area Under the Curve:\", roc(y,mypred))\n",
    "    myconfusion=cm(y,mypredclass)\n",
    "    PPV=(myconfusion[1,1]/(myconfusion[1,0]+myconfusion[1,1]))\n",
    "    NPV=(myconfusion[0,0]/(myconfusion[0,0]+myconfusion[0,1]))\n",
    "    print(\"\\n Confusion Matrix: \\n\",myconfusion)\n",
    "    print(\"\\n PPV, Correctly Classifies Response Yes: \\n\", PPV)\n",
    "    print(\"\\n NPV, Correctly Classifies Response No: \\n\", NPV)\n",
    "    \n",
    "metrics(y_train1,mypred)\n",
    "metrics(y_train1,mypred1)"
   ]
  },
  {
   "cell_type": "code",
   "execution_count": 123,
   "metadata": {},
   "outputs": [
    {
     "name": "stdout",
     "output_type": "stream",
     "text": [
      "Area Under the Curve: 0.8324606901070103\n",
      "\n",
      " Confusion Matrix: \n",
      " [[956 249]\n",
      " [ 47 105]]\n",
      "\n",
      " PPV, Correctly Classifies Response Yes: \n",
      " 0.6907894736842105\n",
      "\n",
      " NPV, Correctly Classifies Response No: \n",
      " 0.7933609958506224\n",
      "Area Under the Curve: 0.6122488534614545\n",
      "\n",
      " Confusion Matrix: \n",
      " [[956 249]\n",
      " [ 47 105]]\n",
      "\n",
      " PPV, Correctly Classifies Response Yes: \n",
      " 0.6907894736842105\n",
      "\n",
      " NPV, Correctly Classifies Response No: \n",
      " 0.7933609958506224\n"
     ]
    }
   ],
   "source": [
    "mypred=clf.predict_proba(X_test)\n",
    "mypred = [p[1] for p in mypred]\n",
    "mypredclass=clf.predict(X_test)\n",
    "\n",
    "mypred1=clf1.predict_proba(X_test)\n",
    "mypred1=[p[1] for p in mypred1]\n",
    "mypredclass1=clf1.predict(X_test)\n",
    "\n",
    "metrics(y_test,mypred)\n",
    "metrics(y_test,mypred1)"
   ]
  },
  {
   "cell_type": "code",
   "execution_count": 121,
   "metadata": {},
   "outputs": [
    {
     "data": {
      "image/png": "[encoded data removed]",
      "text/plain": [
       "<Figure size 432x288 with 1 Axes>"
      ]
     },
     "metadata": {
      "needs_background": "light"
     },
     "output_type": "display_data"
    }
   ],
   "source": [
    "from sklearn.metrics import roc_curve, auc\n",
    "fpr, tpr, thresholds = roc_curve(mypredclass, y_test)\n",
    "roc_auc = auc(fpr, tpr)\n",
    "\n",
    "plt.figure()\n",
    "plt.plot(fpr, tpr, color='darkorange', lw=1, label='ROC curve (area = %0.2f)' % roc_auc)\n",
    "plt.plot([0, 1], [0, 1], color='navy', linestyle='--')\n",
    "plt.xlim([0.0, 1.0])\n",
    "plt.ylim([0.0, 1.05])\n",
    "plt.xlabel('False Positive Rate')\n",
    "plt.ylabel('True Positive Rate')\n",
    "plt.title('Receiver operating characteristic, Test Set, Logistic Regression (Identical for NB)')\n",
    "plt.legend(loc=\"lower right\")\n",
    "plt.show()\n"
   ]
  },
  {
   "cell_type": "markdown",
   "metadata": {},
   "source": [
    "we can see for the graph above that the model is bairly better than the random model (dotted line).  ideally the orange line would be hugging the top with a ROC close to 1."
   ]
  }
 ],
 "metadata": {
  "kernelspec": {
   "display_name": "Python 3",
   "language": "python",
   "name": "python3"
  },
  "language_info": {
   "codemirror_mode": {
    "name": "ipython",
    "version": 3
   },
   "file_extension": ".py",
   "mimetype": "text/x-python",
   "name": "python",
   "nbconvert_exporter": "python",
   "pygments_lexer": "ipython3",
   "version": "3.7.3"
  }
 },
 "nbformat": 4,
 "nbformat_minor": 2
}
